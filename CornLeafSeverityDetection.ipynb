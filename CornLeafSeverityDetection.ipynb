{
 "cells": [
  {
   "cell_type": "code",
   "execution_count": 1,
   "metadata": {},
   "outputs": [],
   "source": [
    "import numpy as np\n",
    "import pickle\n",
    "import cv2\n",
    "import tensorflow as tf\n",
    "from os import listdir\n",
    "from sklearn.preprocessing import LabelBinarizer\n",
    "from tensorflow.keras.models import Sequential\n",
    "from tensorflow.python.keras.layers.core import Activation, Flatten, Dropout, Dense\n",
    "from tensorflow.keras import backend as K\n",
    "from tensorflow.keras.preprocessing.image import ImageDataGenerator\n",
    "from tensorflow.keras.optimizers import Adam\n",
    "from tensorflow.keras.preprocessing import image\n",
    "from tensorflow.keras.preprocessing.image import img_to_array\n",
    "from tensorflow.python.keras.layers.normalization import BatchNormalization\n",
    "from tensorflow.python.keras.layers.convolutional import Conv2D\n",
    "from tensorflow.python.keras.layers.convolutional import MaxPooling2D\n",
    "from tensorflow.keras.models import load_model\n",
    "from sklearn.preprocessing import MultiLabelBinarizer\n",
    "from sklearn.model_selection import train_test_split\n",
    "import matplotlib.pyplot as plt\n",
    "from skimage import measure, io, img_as_ubyte\n",
    "import matplotlib.pyplot as plt\n",
    "from skimage.color import label2rgb, rgb2gray\n",
    "from skimage.filters import threshold_otsu\n",
    "from skimage.segmentation import clear_border\n",
    "import numpy as np\n"
   ]
  },
  {
   "cell_type": "code",
   "execution_count": 18,
   "metadata": {},
   "outputs": [],
   "source": [
    "EPOCHS = 10\n",
    "INIT_LR = 1e-3\n",
    "BS = 32\n",
    "default_image_size = tuple((256, 256))\n",
    "image_size = 0\n",
    "directory_root = 'Corn/'\n",
    "width=256\n",
    "height=256\n",
    "depth=3"
   ]
  },
  {
   "cell_type": "markdown",
   "metadata": {},
   "source": [
    "## Function to convert images into an array"
   ]
  },
  {
   "cell_type": "code",
   "execution_count": 3,
   "metadata": {},
   "outputs": [],
   "source": [
    "def image_to_array(image_dir):\n",
    "    try:\n",
    "        image = cv2.imread(image_dir)\n",
    "        if image is not None :\n",
    "            image = cv2.resize(image, default_image_size)   \n",
    "            return img_to_array(image)\n",
    "        else :\n",
    "            return np.array([])\n",
    "    except Exception as e:\n",
    "        print(f\"Error : {e}\")\n",
    "        return None"
   ]
  },
  {
   "cell_type": "markdown",
   "metadata": {},
   "source": [
    "## Fetching images from directory"
   ]
  },
  {
   "cell_type": "code",
   "execution_count": 4,
   "metadata": {},
   "outputs": [
    {
     "name": "stdout",
     "output_type": "stream",
     "text": [
      "LOADING IMAGES.....\n",
      "Processing CommonRust ...\n",
      "Processing GrayLeafSpot ...\n",
      "Processing Healthy ...\n",
      "Processing NorthernLeafBlight ...\n",
      "[Image loading completed]\n"
     ]
    }
   ],
   "source": [
    "image_list, label_list = [], []\n",
    "try:\n",
    "    print(\"LOADING IMAGES.....\")\n",
    "    root_dir = listdir(directory_root)\n",
    "    for plant_folder in root_dir :\n",
    "        plant_disease_folder_list = listdir(f\"{directory_root}/{plant_folder}/\")\n",
    "        for plant_disease_folder in plant_disease_folder_list:\n",
    "            print(f\"Processing {plant_disease_folder} ...\")\n",
    "            plant_disease_image_list = listdir(f\"{directory_root}/{plant_folder}/{plant_disease_folder}/\")\n",
    "            for image in plant_disease_image_list:\n",
    "                image_directory = f\"{directory_root}/{plant_folder}/{plant_disease_folder}/{image}\"\n",
    "                if image_directory.endswith(\".jpg\") == True or image_directory.endswith(\".JPG\") == True:\n",
    "                    image_list.append(image_to_array(image_directory))\n",
    "                    label_list.append(plant_disease_folder)\n",
    "    print(\"[Image loading completed]\")  \n",
    "except Exception as e:\n",
    "    print(f\"Error : {e}\")"
   ]
  },
  {
   "cell_type": "markdown",
   "metadata": {},
   "source": [
    "## Get Size of Processed Image"
   ]
  },
  {
   "cell_type": "code",
   "execution_count": 5,
   "metadata": {},
   "outputs": [],
   "source": [
    "image_size = len(image_list)"
   ]
  },
  {
   "cell_type": "code",
   "execution_count": 6,
   "metadata": {},
   "outputs": [
    {
     "data": {
      "text/plain": [
       "3804"
      ]
     },
     "execution_count": 6,
     "metadata": {},
     "output_type": "execute_result"
    }
   ],
   "source": [
    "image_size"
   ]
  },
  {
   "cell_type": "markdown",
   "metadata": {},
   "source": [
    "## Transform Image Labels uisng Scikit Learn's LabelBinarizer"
   ]
  },
  {
   "cell_type": "code",
   "execution_count": 7,
   "metadata": {},
   "outputs": [],
   "source": [
    "label_binarizer = LabelBinarizer()\n",
    "image_labels = label_binarizer.fit_transform(label_list)\n",
    "pickle.dump(label_binarizer,open('label_transform.pkl', 'wb'))\n",
    "n_classes = len(label_binarizer.classes_)"
   ]
  },
  {
   "cell_type": "markdown",
   "metadata": {},
   "source": [
    "## Getting class for an image"
   ]
  },
  {
   "cell_type": "code",
   "execution_count": 8,
   "metadata": {},
   "outputs": [
    {
     "name": "stdout",
     "output_type": "stream",
     "text": [
      "['CommonRust' 'GrayLeafSpot' 'Healthy' 'NorthernLeafBlight']\n"
     ]
    }
   ],
   "source": [
    "print(label_binarizer.classes_)"
   ]
  },
  {
   "cell_type": "markdown",
   "metadata": {},
   "source": [
    "## Making numpy array for an image list"
   ]
  },
  {
   "cell_type": "code",
   "execution_count": 10,
   "metadata": {},
   "outputs": [],
   "source": [
    "np_image_list = np.array(image_list, dtype=np.float16) / 255.0"
   ]
  },
  {
   "cell_type": "code",
   "execution_count": 11,
   "metadata": {},
   "outputs": [
    {
     "data": {
      "text/plain": [
       "array([[[[0.011765, 0.011765, 0.011765],\n",
       "         [0.011765, 0.011765, 0.011765],\n",
       "         [0.011765, 0.011765, 0.011765],\n",
       "         ...,\n",
       "         [0.011765, 0.011765, 0.011765],\n",
       "         [0.011765, 0.011765, 0.011765],\n",
       "         [0.011765, 0.011765, 0.011765]],\n",
       "\n",
       "        [[0.011765, 0.011765, 0.011765],\n",
       "         [0.011765, 0.011765, 0.011765],\n",
       "         [0.011765, 0.011765, 0.011765],\n",
       "         ...,\n",
       "         [0.011765, 0.011765, 0.011765],\n",
       "         [0.011765, 0.011765, 0.011765],\n",
       "         [0.011765, 0.011765, 0.011765]],\n",
       "\n",
       "        [[0.011765, 0.011765, 0.011765],\n",
       "         [0.011765, 0.011765, 0.011765],\n",
       "         [0.011765, 0.011765, 0.011765],\n",
       "         ...,\n",
       "         [0.011765, 0.011765, 0.011765],\n",
       "         [0.011765, 0.011765, 0.011765],\n",
       "         [0.011765, 0.011765, 0.011765]],\n",
       "\n",
       "        ...,\n",
       "\n",
       "        [[0.011765, 0.011765, 0.011765],\n",
       "         [0.011765, 0.011765, 0.011765],\n",
       "         [0.011765, 0.011765, 0.011765],\n",
       "         ...,\n",
       "         [0.0196  , 0.011765, 0.011765],\n",
       "         [0.0196  , 0.011765, 0.011765],\n",
       "         [0.011765, 0.011765, 0.011765]],\n",
       "\n",
       "        [[0.011765, 0.011765, 0.011765],\n",
       "         [0.011765, 0.011765, 0.011765],\n",
       "         [0.011765, 0.011765, 0.011765],\n",
       "         ...,\n",
       "         [0.0196  , 0.011765, 0.011765],\n",
       "         [0.0196  , 0.00784 , 0.01569 ],\n",
       "         [0.0196  , 0.00784 , 0.01569 ]],\n",
       "\n",
       "        [[0.011765, 0.011765, 0.011765],\n",
       "         [0.011765, 0.011765, 0.011765],\n",
       "         [0.011765, 0.011765, 0.011765],\n",
       "         ...,\n",
       "         [0.0196  , 0.011765, 0.011765],\n",
       "         [0.02745 , 0.00784 , 0.01569 ],\n",
       "         [0.02745 , 0.00784 , 0.01569 ]]],\n",
       "\n",
       "\n",
       "       [[[0.      , 0.00784 , 0.02353 ],\n",
       "         [0.      , 0.00784 , 0.02353 ],\n",
       "         [0.011765, 0.00784 , 0.01569 ],\n",
       "         ...,\n",
       "         [0.011765, 0.011765, 0.011765],\n",
       "         [0.011765, 0.011765, 0.011765],\n",
       "         [0.011765, 0.011765, 0.011765]],\n",
       "\n",
       "        [[0.      , 0.00784 , 0.02353 ],\n",
       "         [0.      , 0.00784 , 0.02353 ],\n",
       "         [0.011765, 0.00784 , 0.01569 ],\n",
       "         ...,\n",
       "         [0.011765, 0.011765, 0.011765],\n",
       "         [0.011765, 0.011765, 0.011765],\n",
       "         [0.011765, 0.011765, 0.011765]],\n",
       "\n",
       "        [[0.      , 0.011765, 0.01569 ],\n",
       "         [0.      , 0.011765, 0.01569 ],\n",
       "         [0.011765, 0.00784 , 0.01569 ],\n",
       "         ...,\n",
       "         [0.011765, 0.011765, 0.011765],\n",
       "         [0.011765, 0.011765, 0.011765],\n",
       "         [0.011765, 0.011765, 0.011765]],\n",
       "\n",
       "        ...,\n",
       "\n",
       "        [[0.011765, 0.011765, 0.011765],\n",
       "         [0.011765, 0.011765, 0.011765],\n",
       "         [0.011765, 0.011765, 0.011765],\n",
       "         ...,\n",
       "         [0.149   , 0.3215  , 0.3254  ],\n",
       "         [0.1412  , 0.302   , 0.3137  ],\n",
       "         [0.1059  , 0.2666  , 0.2783  ]],\n",
       "\n",
       "        [[0.011765, 0.011765, 0.011765],\n",
       "         [0.011765, 0.011765, 0.011765],\n",
       "         [0.011765, 0.011765, 0.011765],\n",
       "         ...,\n",
       "         [0.1765  , 0.3372  , 0.349   ],\n",
       "         [0.196   , 0.3452  , 0.3647  ],\n",
       "         [0.1804  , 0.3293  , 0.349   ]],\n",
       "\n",
       "        [[0.011765, 0.011765, 0.011765],\n",
       "         [0.011765, 0.011765, 0.011765],\n",
       "         [0.011765, 0.011765, 0.011765],\n",
       "         ...,\n",
       "         [0.2196  , 0.3804  , 0.392   ],\n",
       "         [0.204   , 0.349   , 0.3804  ],\n",
       "         [0.1608  , 0.306   , 0.3372  ]]],\n",
       "\n",
       "\n",
       "       [[[0.011765, 0.011765, 0.011765],\n",
       "         [0.011765, 0.011765, 0.011765],\n",
       "         [0.011765, 0.011765, 0.011765],\n",
       "         ...,\n",
       "         [0.011765, 0.011765, 0.011765],\n",
       "         [0.011765, 0.011765, 0.011765],\n",
       "         [0.011765, 0.011765, 0.011765]],\n",
       "\n",
       "        [[0.011765, 0.011765, 0.011765],\n",
       "         [0.011765, 0.011765, 0.011765],\n",
       "         [0.011765, 0.011765, 0.011765],\n",
       "         ...,\n",
       "         [0.011765, 0.011765, 0.011765],\n",
       "         [0.011765, 0.011765, 0.011765],\n",
       "         [0.011765, 0.011765, 0.011765]],\n",
       "\n",
       "        [[0.011765, 0.011765, 0.011765],\n",
       "         [0.011765, 0.011765, 0.011765],\n",
       "         [0.011765, 0.011765, 0.011765],\n",
       "         ...,\n",
       "         [0.011765, 0.011765, 0.011765],\n",
       "         [0.011765, 0.011765, 0.011765],\n",
       "         [0.011765, 0.011765, 0.011765]],\n",
       "\n",
       "        ...,\n",
       "\n",
       "        [[0.011765, 0.011765, 0.011765],\n",
       "         [0.011765, 0.011765, 0.011765],\n",
       "         [0.011765, 0.011765, 0.011765],\n",
       "         ...,\n",
       "         [0.011765, 0.011765, 0.011765],\n",
       "         [0.011765, 0.011765, 0.011765],\n",
       "         [0.011765, 0.011765, 0.011765]],\n",
       "\n",
       "        [[0.011765, 0.011765, 0.011765],\n",
       "         [0.011765, 0.011765, 0.011765],\n",
       "         [0.011765, 0.011765, 0.011765],\n",
       "         ...,\n",
       "         [0.011765, 0.011765, 0.011765],\n",
       "         [0.011765, 0.011765, 0.011765],\n",
       "         [0.011765, 0.011765, 0.011765]],\n",
       "\n",
       "        [[0.011765, 0.011765, 0.011765],\n",
       "         [0.011765, 0.011765, 0.011765],\n",
       "         [0.011765, 0.011765, 0.011765],\n",
       "         ...,\n",
       "         [0.011765, 0.011765, 0.011765],\n",
       "         [0.011765, 0.011765, 0.011765],\n",
       "         [0.011765, 0.011765, 0.011765]]],\n",
       "\n",
       "\n",
       "       ...,\n",
       "\n",
       "\n",
       "       [[[0.6274  , 0.537   , 0.5527  ],\n",
       "         [0.6274  , 0.537   , 0.5527  ],\n",
       "         [0.6274  , 0.537   , 0.5527  ],\n",
       "         ...,\n",
       "         [0.298   , 0.3608  , 0.2903  ],\n",
       "         [0.2666  , 0.341   , 0.2666  ],\n",
       "         [0.3333  , 0.408   , 0.3333  ]],\n",
       "\n",
       "        [[0.6313  , 0.541   , 0.5566  ],\n",
       "         [0.6313  , 0.541   , 0.5566  ],\n",
       "         [0.6313  , 0.541   , 0.5566  ],\n",
       "         ...,\n",
       "         [0.3293  , 0.392   , 0.3215  ],\n",
       "         [0.2825  , 0.357   , 0.2825  ],\n",
       "         [0.251   , 0.3254  , 0.251   ]],\n",
       "\n",
       "        [[0.6353  , 0.545   , 0.5605  ],\n",
       "         [0.6353  , 0.545   , 0.5605  ],\n",
       "         [0.639   , 0.549   , 0.565   ],\n",
       "         ...,\n",
       "         [0.3608  , 0.4275  , 0.3452  ],\n",
       "         [0.3254  , 0.4     , 0.3254  ],\n",
       "         [0.2079  , 0.2825  , 0.2079  ]],\n",
       "\n",
       "        ...,\n",
       "\n",
       "        [[0.4785  , 0.447   , 0.4902  ],\n",
       "         [0.4824  , 0.451   , 0.4902  ],\n",
       "         [0.5293  , 0.502   , 0.5293  ],\n",
       "         ...,\n",
       "         [0.2864  , 0.4626  , 0.3608  ],\n",
       "         [0.2864  , 0.4707  , 0.3687  ],\n",
       "         [0.2864  , 0.4707  , 0.3687  ]],\n",
       "\n",
       "        [[0.443   , 0.4119  , 0.4548  ],\n",
       "         [0.4824  , 0.451   , 0.4902  ],\n",
       "         [0.498   , 0.4824  , 0.506   ],\n",
       "         ...,\n",
       "         [0.2864  , 0.4707  , 0.3687  ],\n",
       "         [0.298   , 0.4785  , 0.3882  ],\n",
       "         [0.2705  , 0.451   , 0.3608  ]],\n",
       "\n",
       "        [[0.4119  , 0.3804  , 0.4236  ],\n",
       "         [0.4707  , 0.4392  , 0.4785  ],\n",
       "         [0.4666  , 0.451   , 0.4746  ],\n",
       "         ...,\n",
       "         [0.3098  , 0.4941  , 0.392   ],\n",
       "         [0.3254  , 0.506   , 0.4158  ],\n",
       "         [0.2825  , 0.4626  , 0.3726  ]]],\n",
       "\n",
       "\n",
       "       [[[0.8394  , 0.8037  , 0.855   ],\n",
       "         [0.8115  , 0.7764  , 0.8276  ],\n",
       "         [0.788   , 0.753   , 0.8037  ],\n",
       "         ...,\n",
       "         [0.2783  , 0.4314  , 0.4902  ],\n",
       "         [0.2235  , 0.3804  , 0.4548  ],\n",
       "         [0.353   , 0.506   , 0.5923  ]],\n",
       "\n",
       "        [[0.8276  , 0.792   , 0.8433  ],\n",
       "         [0.8115  , 0.7764  , 0.8276  ],\n",
       "         [0.8     , 0.7646  , 0.816   ],\n",
       "         ...,\n",
       "         [0.341   , 0.4941  , 0.549   ],\n",
       "         [0.2235  , 0.3804  , 0.451   ],\n",
       "         [0.2393  , 0.396   , 0.4707  ]],\n",
       "\n",
       "        [[0.8037  , 0.7686  , 0.82    ],\n",
       "         [0.8037  , 0.7686  , 0.82    ],\n",
       "         [0.8037  , 0.7686  , 0.82    ],\n",
       "         ...,\n",
       "         [0.196   , 0.357   , 0.392   ],\n",
       "         [0.1647  , 0.3293  , 0.3804  ],\n",
       "         [0.2157  , 0.3804  , 0.4314  ]],\n",
       "\n",
       "        ...,\n",
       "\n",
       "        [[0.396   , 0.3726  , 0.4158  ],\n",
       "         [0.392   , 0.3687  , 0.4119  ],\n",
       "         [0.3882  , 0.3647  , 0.408   ],\n",
       "         ...,\n",
       "         [0.1372  , 0.2471  , 0.196   ],\n",
       "         [0.1372  , 0.2471  , 0.196   ],\n",
       "         [0.1412  , 0.251   , 0.2     ]],\n",
       "\n",
       "        [[0.4038  , 0.3804  , 0.4236  ],\n",
       "         [0.4038  , 0.3804  , 0.4236  ],\n",
       "         [0.4     , 0.3765  , 0.4197  ],\n",
       "         ...,\n",
       "         [0.1372  , 0.2471  , 0.196   ],\n",
       "         [0.1412  , 0.251   , 0.2     ],\n",
       "         [0.1412  , 0.251   , 0.2     ]],\n",
       "\n",
       "        [[0.4119  , 0.3882  , 0.4314  ],\n",
       "         [0.4119  , 0.3882  , 0.4314  ],\n",
       "         [0.408   , 0.3843  , 0.4275  ],\n",
       "         ...,\n",
       "         [0.1177  , 0.2274  , 0.1765  ],\n",
       "         [0.1216  , 0.2313  , 0.1804  ],\n",
       "         [0.1216  , 0.2313  , 0.1804  ]]],\n",
       "\n",
       "\n",
       "       [[[0.01569 , 0.1921  , 0.0863  ],\n",
       "         [0.02745 , 0.204   , 0.098   ],\n",
       "         [0.051   , 0.2274  , 0.1216  ],\n",
       "         ...,\n",
       "         [0.6943  , 0.6587  , 0.7373  ],\n",
       "         [0.718   , 0.651   , 0.702   ],\n",
       "         [0.745   , 0.6626  , 0.698   ]],\n",
       "\n",
       "        [[0.02745 , 0.204   , 0.098   ],\n",
       "         [0.03137 , 0.2079  , 0.102   ],\n",
       "         [0.0549  , 0.2313  , 0.1255  ],\n",
       "         ...,\n",
       "         [0.686   , 0.6626  , 0.7373  ],\n",
       "         [0.706   , 0.639   , 0.6904  ],\n",
       "         [0.7295  , 0.647   , 0.682   ]],\n",
       "\n",
       "        [[0.0353  , 0.2118  , 0.1059  ],\n",
       "         [0.0392  , 0.2157  , 0.1098  ],\n",
       "         [0.0549  , 0.2313  , 0.1255  ],\n",
       "         ...,\n",
       "         [0.682   , 0.6587  , 0.7334  ],\n",
       "         [0.706   , 0.639   , 0.6904  ],\n",
       "         [0.718   , 0.643   , 0.678   ]],\n",
       "\n",
       "        ...,\n",
       "\n",
       "        [[0.0902  , 0.2825  , 0.2274  ],\n",
       "         [0.0902  , 0.2825  , 0.2196  ],\n",
       "         [0.0902  , 0.2825  , 0.2196  ],\n",
       "         ...,\n",
       "         [0.647   , 0.6235  , 0.6665  ],\n",
       "         [0.651   , 0.6274  , 0.6704  ],\n",
       "         [0.651   , 0.6274  , 0.6704  ]],\n",
       "\n",
       "        [[0.06274 , 0.2588  , 0.2118  ],\n",
       "         [0.0706  , 0.2705  , 0.2157  ],\n",
       "         [0.08234 , 0.2825  , 0.2274  ],\n",
       "         ...,\n",
       "         [0.647   , 0.6235  , 0.6665  ],\n",
       "         [0.643   , 0.6196  , 0.6626  ],\n",
       "         [0.643   , 0.6196  , 0.6626  ]],\n",
       "\n",
       "        [[0.0941  , 0.2903  , 0.2432  ],\n",
       "         [0.102   , 0.298   , 0.251   ],\n",
       "         [0.1137  , 0.3137  , 0.2588  ],\n",
       "         ...,\n",
       "         [0.639   , 0.6157  , 0.6587  ],\n",
       "         [0.6353  , 0.612   , 0.655   ],\n",
       "         [0.6353  , 0.612   , 0.655   ]]]], dtype=float16)"
      ]
     },
     "execution_count": 11,
     "metadata": {},
     "output_type": "execute_result"
    }
   ],
   "source": [
    "np_image_list"
   ]
  },
  {
   "cell_type": "markdown",
   "metadata": {},
   "source": [
    "## Splitting data into train & test(val)"
   ]
  },
  {
   "cell_type": "code",
   "execution_count": 12,
   "metadata": {},
   "outputs": [
    {
     "name": "stdout",
     "output_type": "stream",
     "text": [
      "Spliting data to train, test(val)...\n"
     ]
    }
   ],
   "source": [
    "print(\"Spliting data to train, test(val)...\")\n",
    "x_train, x_test, y_train, y_test = train_test_split(np_image_list, image_labels, test_size=0.05, random_state = 42)"
   ]
  },
  {
   "cell_type": "markdown",
   "metadata": {},
   "source": [
    "## Image Augmentation"
   ]
  },
  {
   "cell_type": "code",
   "execution_count": 13,
   "metadata": {},
   "outputs": [],
   "source": [
    "aug = ImageDataGenerator(\n",
    "    rotation_range=25, width_shift_range=0.1,\n",
    "    height_shift_range=0.1, shear_range=0.2, \n",
    "    zoom_range=0.2,horizontal_flip=True, \n",
    "    fill_mode=\"nearest\")"
   ]
  },
  {
   "cell_type": "markdown",
   "metadata": {},
   "source": [
    "## Defining sequential model"
   ]
  },
  {
   "cell_type": "code",
   "execution_count": 14,
   "metadata": {},
   "outputs": [],
   "source": [
    "inputShape = (height, width, depth)\n",
    "model = Sequential([\n",
    "    Conv2D(32,(3,3),activation='relu',input_shape=inputShape),\n",
    "    Flatten(),\n",
    "    Dense(4,activation='softmax')\n",
    "])"
   ]
  },
  {
   "cell_type": "markdown",
   "metadata": {},
   "source": [
    "## Model Summary"
   ]
  },
  {
   "cell_type": "code",
   "execution_count": 15,
   "metadata": {},
   "outputs": [
    {
     "name": "stdout",
     "output_type": "stream",
     "text": [
      "Model: \"sequential\"\n",
      "_________________________________________________________________\n",
      "Layer (type)                 Output Shape              Param #   \n",
      "=================================================================\n",
      "conv2d (Conv2D)              (None, 254, 254, 32)      896       \n",
      "_________________________________________________________________\n",
      "flatten (Flatten)            (None, 2064512)           0         \n",
      "_________________________________________________________________\n",
      "dense (Dense)                (None, 4)                 8258052   \n",
      "=================================================================\n",
      "Total params: 8,258,948\n",
      "Trainable params: 8,258,948\n",
      "Non-trainable params: 0\n",
      "_________________________________________________________________\n"
     ]
    }
   ],
   "source": [
    "model.summary()"
   ]
  },
  {
   "cell_type": "markdown",
   "metadata": {},
   "source": [
    "## Optimizer"
   ]
  },
  {
   "cell_type": "code",
   "execution_count": 16,
   "metadata": {},
   "outputs": [
    {
     "name": "stdout",
     "output_type": "stream",
     "text": [
      "Training network...\n"
     ]
    }
   ],
   "source": [
    "opt = Adam(lr=INIT_LR, decay=INIT_LR / EPOCHS)    # distribution\n",
    "model.compile(loss=\"binary_crossentropy\", optimizer=opt,metrics=[\"accuracy\"])    # train the network\n",
    "print(\"Training network...\")"
   ]
  },
  {
   "cell_type": "code",
   "execution_count": 19,
   "metadata": {},
   "outputs": [
    {
     "name": "stdout",
     "output_type": "stream",
     "text": [
      "Epoch 1/10\n",
      "60/60 [==============================] - 74s 1s/step - loss: 0.1654 - accuracy: 0.8781 - val_loss: 0.1476 - val_accuracy: 0.8953\n",
      "Epoch 2/10\n",
      "60/60 [==============================] - 72s 1s/step - loss: 0.1339 - accuracy: 0.9021 - val_loss: 0.1210 - val_accuracy: 0.9162\n",
      "Epoch 3/10\n",
      "60/60 [==============================] - 72s 1s/step - loss: 0.1348 - accuracy: 0.9030 - val_loss: 0.1157 - val_accuracy: 0.9058\n",
      "Epoch 4/10\n",
      "60/60 [==============================] - 74s 1s/step - loss: 0.1268 - accuracy: 0.9004 - val_loss: 0.1259 - val_accuracy: 0.9110\n",
      "Epoch 5/10\n",
      "60/60 [==============================] - 72s 1s/step - loss: 0.1229 - accuracy: 0.9045 - val_loss: 0.1029 - val_accuracy: 0.9267\n",
      "Epoch 6/10\n",
      "60/60 [==============================] - 72s 1s/step - loss: 0.1121 - accuracy: 0.9045 - val_loss: 0.1330 - val_accuracy: 0.8743\n",
      "Epoch 7/10\n",
      "60/60 [==============================] - 69s 1s/step - loss: 0.1110 - accuracy: 0.9176 - val_loss: 0.1008 - val_accuracy: 0.9162\n",
      "Epoch 8/10\n",
      "60/60 [==============================] - 72s 1s/step - loss: 0.1132 - accuracy: 0.9078 - val_loss: 0.0933 - val_accuracy: 0.9372\n",
      "Epoch 9/10\n",
      "60/60 [==============================] - 71s 1s/step - loss: 0.1211 - accuracy: 0.9030 - val_loss: 0.0923 - val_accuracy: 0.9319\n",
      "Epoch 10/10\n",
      "60/60 [==============================] - 72s 1s/step - loss: 0.1044 - accuracy: 0.9144 - val_loss: 0.1060 - val_accuracy: 0.9162\n"
     ]
    }
   ],
   "source": [
    "m = model.fit_generator(\n",
    "    aug.flow(x_train, y_train, batch_size=BS),\n",
    "    validation_data=(x_test, y_test),\n",
    "    steps_per_epoch= 60,\n",
    "    epochs=EPOCHS, verbose=1\n",
    "    )"
   ]
  },
  {
   "cell_type": "markdown",
   "metadata": {},
   "source": [
    "## Plotting the training and validation curve"
   ]
  },
  {
   "cell_type": "code",
   "execution_count": 20,
   "metadata": {},
   "outputs": [
    {
     "data": {
      "image/png": "[encoded data removed]",
      "text/plain": [
       "<Figure size 432x288 with 1 Axes>"
      ]
     },
     "metadata": {
      "needs_background": "light"
     },
     "output_type": "display_data"
    },
    {
     "data": {
      "image/png": "[encoded data removed]",
      "text/plain": [
       "<Figure size 432x288 with 1 Axes>"
      ]
     },
     "metadata": {
      "needs_background": "light"
     },
     "output_type": "display_data"
    }
   ],
   "source": [
    "accuracy = m.history['accuracy']\n",
    "val_accuracy = m.history['val_accuracy']\n",
    "loss = m.history['loss']\n",
    "val_loss = m.history['val_loss']\n",
    "epochs = range(1, len(accuracy) + 1)\n",
    "\n",
    "#Train and validation accuracy\n",
    "plt.plot(epochs, accuracy, 'b', label='Training accurarcy')\n",
    "plt.plot(epochs, val_accuracy, 'r', label='Validation accurarcy')\n",
    "plt.title('Training and Validation accurarcy')\n",
    "plt.legend()\n",
    "plt.figure()\n",
    "\n",
    "#Train and validation loss\n",
    "plt.plot(epochs, loss, 'b', label='Training loss')\n",
    "plt.plot(epochs, val_loss, 'r', label='Validation loss')\n",
    "plt.title('Training and Validation loss')\n",
    "plt.legend()\n",
    "plt.show()"
   ]
  },
  {
   "cell_type": "markdown",
   "metadata": {},
   "source": [
    "## Checking accuracy of trained model"
   ]
  },
  {
   "cell_type": "code",
   "execution_count": 22,
   "metadata": {},
   "outputs": [
    {
     "name": "stdout",
     "output_type": "stream",
     "text": [
      "Calculating Model Accuracy....\n",
      "6/6 [==============================] - 1s 227ms/step - loss: 0.1060 - accuracy: 0.9162\n",
      "Accuracy: 91.62303805351257\n"
     ]
    }
   ],
   "source": [
    "print(\"Calculating Model Accuracy....\")\n",
    "accuracy_score = model.evaluate(x_test,y_test)\n",
    "print(f\"Accuracy: {accuracy_score[1]*100}\")"
   ]
  },
  {
   "cell_type": "markdown",
   "metadata": {},
   "source": [
    "## Saving the trained model using pickle (for further implementation we will just need to load model and not train again)"
   ]
  },
  {
   "cell_type": "code",
   "execution_count": 23,
   "metadata": {},
   "outputs": [
    {
     "name": "stdout",
     "output_type": "stream",
     "text": [
      "Saving Trained Model...\n",
      "Model Saved Successfully...\n"
     ]
    }
   ],
   "source": [
    "print(\"Saving Trained Model...\")\n",
    "model.save('CornAnalysis.h5')\n",
    "print('Model Saved Successfully...')"
   ]
  },
  {
   "cell_type": "markdown",
   "metadata": {},
   "source": [
    "## Function for calculating severity"
   ]
  },
  {
   "cell_type": "code",
   "execution_count": 1,
   "metadata": {},
   "outputs": [],
   "source": [
    "def calSeverityCommonRust(img_path):\n",
    "    img_1 = cv2.imread(img_path)\n",
    "    img1 = cv2.cvtColor(img_1, cv2.COLOR_BGR2RGB)\n",
    "    hsv = cv2.cvtColor(img1, cv2.COLOR_BGR2HSV)\n",
    "    lower = np.array([0, 0, 50])\n",
    "    upper = np.array([110, 255, 255])\n",
    "    mask = cv2.inRange(hsv, lower, upper)\n",
    "    res = cv2.bitwise_and(hsv, hsv, mask = mask)\n",
    "    gray = cv2.cvtColor(res, cv2.COLOR_BGR2GRAY)\n",
    "    ret, thresh = cv2.threshold(gray, 0, 255, cv2.THRESH_BINARY + cv2.THRESH_OTSU)\n",
    "    contours, hierarchy = cv2.findContours(thresh,cv2.RETR_TREE,cv2.CHAIN_APPROX_NONE)\n",
    "    for i in contours:\n",
    "        cnt = cv2.contourArea(i)\n",
    "        if cnt > 1000:  \n",
    "            cv2.drawContours(img1, [i], 0, (179,179,179), -1)\n",
    "    gray = cv2.cvtColor(img1,cv2.COLOR_BGR2GRAY)\n",
    "    ret, thresh = cv2.threshold(gray,0,255,cv2.THRESH_BINARY+cv2.THRESH_OTSU)\n",
    "    contours, hierarchy = cv2.findContours(thresh,cv2.RETR_TREE,cv2.CHAIN_APPROX_NONE)\n",
    "    cnt = max(contours, key=cv2.contourArea)\n",
    "    area = cv2.contourArea(cnt)\n",
    "    print(\"Area of plant is \", area)\n",
    "    \n",
    "    \n",
    "    gray = cv2.cvtColor(img_1,cv2.COLOR_BGR2GRAY)\n",
    "    _,thresh = cv2.threshold(gray,0,255,cv2.THRESH_BINARY)\n",
    "    print(gray.dtype)\n",
    "    blue_channel = img_1[:,:,0]\n",
    "    background = (blue_channel <= 115)\n",
    "    infected = (blue_channel > 115)\n",
    "    number_of_infected_area = np.sum(infected == True)\n",
    "    print(\"Infected Area Is : \", number_of_infected_area)\n",
    "    severity = (number_of_infected_area / area) * 100\n",
    "    print(severity, \"% is infected\")\n",
    "    plt.imshow(img_1)\n",
    "    \n",
    "    if(severity > 0 and severity <= 30):\n",
    "        print(\"Stage 1\")\n",
    "    if(severity >= 31 and severity <= 60):\n",
    "        print(\"Stage 2\")\n",
    "    else:\n",
    "        print(\"Stage 3\")"
   ]
  },
  {
   "cell_type": "code",
   "execution_count": 2,
   "metadata": {},
   "outputs": [],
   "source": [
    "def calSeverityGeayLeaf(img_path):\n",
    "    img_1 = cv2.imread(img_path)\n",
    "    img1 = cv2.cvtColor(img_1, cv2.COLOR_BGR2RGB)\n",
    "    hsv = cv2.cvtColor(img1, cv2.COLOR_BGR2HSV)\n",
    "    lower = np.array([0, 0, 50])\n",
    "    upper = np.array([110, 255, 255])\n",
    "    mask = cv2.inRange(hsv, lower, upper)\n",
    "    res = cv2.bitwise_and(hsv, hsv, mask = mask)\n",
    "    gray = cv2.cvtColor(res, cv2.COLOR_BGR2GRAY)\n",
    "    ret, thresh = cv2.threshold(gray, 0, 255, cv2.THRESH_BINARY + cv2.THRESH_OTSU)\n",
    "    contours, hierarchy = cv2.findContours(thresh,cv2.RETR_TREE,cv2.CHAIN_APPROX_NONE)\n",
    "    for i in contours:\n",
    "        cnt = cv2.contourArea(i)\n",
    "        if cnt > 1000:  \n",
    "            cv2.drawContours(img1, [i], 0, (179,179,179), -1)\n",
    "    gray = cv2.cvtColor(img1,cv2.COLOR_BGR2GRAY)\n",
    "    ret, thresh = cv2.threshold(gray,0,255,cv2.THRESH_BINARY+cv2.THRESH_OTSU)\n",
    "    contours, hierarchy = cv2.findContours(thresh,cv2.RETR_TREE,cv2.CHAIN_APPROX_NONE)\n",
    "    cnt = max(contours, key=cv2.contourArea)\n",
    "    area = cv2.contourArea(cnt)\n",
    "    print(\"Area of plant is \", area)\n",
    "    \n",
    "    \n",
    "    gray = cv2.cvtColor(img_1,cv2.COLOR_BGR2GRAY)\n",
    "    _,thresh = cv2.threshold(gray,0,255,cv2.THRESH_BINARY)\n",
    "    print(gray.dtype)\n",
    "    blue_channel = img_1[:,:,0]\n",
    "    background = (blue_channel <= 105)\n",
    "    infected = (blue_channel > 105)\n",
    "    number_of_infected_area = np.sum(infected == True)\n",
    "    print(\"Infected Area Is : \", number_of_infected_area)\n",
    "    severity = (number_of_infected_area / area) * 100\n",
    "    print(severity, \"% is infected\")\n",
    "    plt.imshow(img_1)\n",
    "    if(severity > 0 and severity <= 30):\n",
    "        print(\"Stage 1\")\n",
    "    if(severity >= 31 and severity <= 60):\n",
    "        print(\"Stage 2\")\n",
    "    else:\n",
    "        print(\"Stage 3\")"
   ]
  },
  {
   "cell_type": "code",
   "execution_count": 3,
   "metadata": {},
   "outputs": [],
   "source": [
    "def calSeverityNorthernLeaf(img_path):\n",
    "    img_1 = cv2.imread(img_path)\n",
    "    img1 = cv2.cvtColor(img_1, cv2.COLOR_BGR2RGB)\n",
    "    hsv = cv2.cvtColor(img1, cv2.COLOR_BGR2HSV)\n",
    "    lower = np.array([0, 0, 50])\n",
    "    upper = np.array([110, 255, 255])\n",
    "    mask = cv2.inRange(hsv, lower, upper)\n",
    "    res = cv2.bitwise_and(hsv, hsv, mask = mask)\n",
    "    gray = cv2.cvtColor(res, cv2.COLOR_BGR2GRAY)\n",
    "    ret, thresh = cv2.threshold(gray, 0, 255, cv2.THRESH_BINARY + cv2.THRESH_OTSU)\n",
    "    contours, hierarchy = cv2.findContours(thresh,cv2.RETR_TREE,cv2.CHAIN_APPROX_NONE)\n",
    "    for i in contours:\n",
    "        cnt = cv2.contourArea(i)\n",
    "        if cnt > 1000:  \n",
    "            cv2.drawContours(img1, [i], 0, (179,179,179), -1)\n",
    "    gray = cv2.cvtColor(img1,cv2.COLOR_BGR2GRAY)\n",
    "    ret, thresh = cv2.threshold(gray,0,255,cv2.THRESH_BINARY+cv2.THRESH_OTSU)\n",
    "    contours, hierarchy = cv2.findContours(thresh,cv2.RETR_TREE,cv2.CHAIN_APPROX_NONE)\n",
    "    cnt = max(contours, key=cv2.contourArea)\n",
    "    area = cv2.contourArea(cnt)\n",
    "    print(\"Area of plant is \", area)\n",
    "    \n",
    "    \n",
    "    gray = cv2.cvtColor(img_1,cv2.COLOR_BGR2GRAY)\n",
    "    _,thresh = cv2.threshold(gray,0,255,cv2.THRESH_BINARY)\n",
    "    print(gray.dtype)\n",
    "    blue_channel = img_1[:,:,0]\n",
    "    background = (blue_channel <= 100)\n",
    "    infected = (blue_channel > 100)\n",
    "    number_of_infected_area = np.sum(infected == True)\n",
    "    print(\"Infected Area Is : \", number_of_infected_area)\n",
    "    severity = (number_of_infected_area / area) * 100\n",
    "    print(severity, \"% is infected\")\n",
    "    plt.imshow(img_1)\n",
    "    if(severity > 0 and severity <= 30):\n",
    "        print(\"Stage 1\")\n",
    "    if(severity >= 31 and severity <= 60):\n",
    "        print(\"Stage 2\")\n",
    "    else:\n",
    "        print(\"Stage 3\")"
   ]
  },
  {
   "cell_type": "markdown",
   "metadata": {},
   "source": [
    "## Testing images"
   ]
  },
  {
   "cell_type": "code",
   "execution_count": 6,
   "metadata": {},
   "source": [
    "imgPath = 'CornTestSet/CommonRust/RS_Rust 1630.JPG'\n",
    "test_img = cv2.imread(imgPath)\n",
    "plt.imshow(test_img)\n",
    "test_img = test_img / 255\n",
    "test_img = np.expand_dims(test_img, axis=0)\n",
    "pr=m.predict(test_img)\n",
    "print(pr,'\\n')\n",
    "output = label_binarizer.inverse_transform(pr)\n",
    "print(\"Selected Image Is Predicted As \" ,output)\n",
    "if output != 'Healthy':\n",
    "    if output == 'CommonRust':\n",
    "        calSeverityCommonRust(imgPath)\n",
    "    if output == 'GrayLeafSpot':\n",
    "        calSeverityGeayLeaf(imgPath)\n",
    "    if output == 'NorthernLeafBlight':\n",
    "         calSeverityNorthernLeaf(imgPath)"
   ]
  },
  {
   "cell_type": "code",
   "execution_count": null,
   "metadata": {},
   "outputs": [],
   "source": []
  }
 ],
 "metadata": {
  "kernelspec": {
   "display_name": "Python 3",
   "language": "python",
   "name": "python3"
  },
  "language_info": {
   "codemirror_mode": {
    "name": "ipython",
    "version": 3
   },
   "file_extension": ".py",
   "mimetype": "text/x-python",
   "name": "python",
   "nbconvert_exporter": "python",
   "pygments_lexer": "ipython3",
   "version": "3.8.5"
  }
 },
 "nbformat": 4,
 "nbformat_minor": 4
}
